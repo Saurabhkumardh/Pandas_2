{
  "nbformat": 4,
  "nbformat_minor": 0,
  "metadata": {
    "colab": {
      "provenance": []
    },
    "kernelspec": {
      "name": "python3",
      "display_name": "Python 3"
    },
    "language_info": {
      "name": "python"
    }
  },
  "cells": [
    {
      "cell_type": "code",
      "execution_count": null,
      "metadata": {
        "id": "hAjCXdh8lf8q"
      },
      "outputs": [],
      "source": []
    },
    {
      "cell_type": "markdown",
      "source": [
        "Question 1"
      ],
      "metadata": {
        "id": "1xd9XyAgljZj"
      }
    },
    {
      "cell_type": "code",
      "source": [
        "df = pd.read_csv('data.csv')\n",
        "df.head()\n",
        "df.info()\n",
        "df.plot()\n",
        "grouped_data = df.groupby('Category')['Value'].mean()\n",
        "print(grouped_data)"
      ],
      "metadata": {
        "id": "71myOMLHllKS"
      },
      "execution_count": null,
      "outputs": []
    },
    {
      "cell_type": "markdown",
      "source": [
        "Question 2"
      ],
      "metadata": {
        "id": "sEgkn-PonWkT"
      }
    },
    {
      "cell_type": "code",
      "source": [
        "import pandas as pd\n",
        "\n",
        "def reindex_with_incrementing_index(df):\n",
        "    # Create a new index starting from 1 and incrementing by 2\n",
        "    new_index = pd.Index(range(1, len(df) * 2, 2))\n",
        "\n",
        "    # Assign the new index to the DataFrame\n",
        "    df.index = new_index\n",
        "\n",
        "    return df"
      ],
      "metadata": {
        "id": "KRzNq-9ynYev"
      },
      "execution_count": null,
      "outputs": []
    },
    {
      "cell_type": "markdown",
      "source": [
        "Question 3\n"
      ],
      "metadata": {
        "id": "1XhoEHR0x814"
      }
    },
    {
      "cell_type": "code",
      "source": [
        "def sum_first_three_values(df):\n",
        "\n",
        "    first_three_values = df['Values'].iloc[:3]\n",
        "    sum_of_first_three = first_three_values.sum()\n",
        "    print(\"Sum of the first three values:\", sum_of_first_three)\n",
        "df = pd.DataFrame({'Values': [10, 20, 30, 40, 50]})\n",
        "sum_first_three_values(df)\n"
      ],
      "metadata": {
        "id": "mz5xDVIjx-kC"
      },
      "execution_count": null,
      "outputs": []
    },
    {
      "cell_type": "code",
      "source": [],
      "metadata": {
        "id": "ioxKcIpGyfon"
      },
      "execution_count": null,
      "outputs": []
    },
    {
      "cell_type": "markdown",
      "source": [
        "Question 4"
      ],
      "metadata": {
        "id": "KCjBKaXjygTX"
      }
    },
    {
      "cell_type": "code",
      "source": [
        "df.head()\n",
        "def cou(x):\n",
        "\n",
        "  x=len(x)\n",
        "  return x\n",
        "df['Text']=df['Word_count'].apply(cou)"
      ],
      "metadata": {
        "id": "gV8Tr8o_yjbW"
      },
      "execution_count": null,
      "outputs": []
    },
    {
      "cell_type": "markdown",
      "source": [
        "Question 5"
      ],
      "metadata": {
        "id": "o4piXm1Oz2xB"
      }
    },
    {
      "cell_type": "markdown",
      "source": [
        "DataFrame.size:\n",
        "\n",
        "DataFrame.size returns the number of elements in the DataFrame, which is equivalent to the total number of cells in the DataFrame (number of rows multiplied by number of columns).\n",
        "It returns an integer representing the total number of elements, including both non-null and null values.\n",
        "DataFrame.shape:\n",
        "\n",
        "DataFrame.shape returns a tuple representing the dimensions of the DataFrame.\n",
        "It returns a tuple (nrows, ncols) where nrows represents the number of rows and ncols represents the number of columns in the DataFrame."
      ],
      "metadata": {
        "id": "i6Uf-Tx40Nfc"
      }
    },
    {
      "cell_type": "markdown",
      "source": [],
      "metadata": {
        "id": "CR9tU9Rv0OcS"
      }
    },
    {
      "cell_type": "markdown",
      "source": [
        "Question 6\n"
      ],
      "metadata": {
        "id": "8MIKOm8K0T0_"
      }
    },
    {
      "cell_type": "markdown",
      "source": [
        "pd.read_excel()"
      ],
      "metadata": {
        "id": "q3sfvii-0WXK"
      }
    },
    {
      "cell_type": "markdown",
      "source": [
        "Question 7"
      ],
      "metadata": {
        "id": "FZnk5UNo0lpK"
      }
    },
    {
      "cell_type": "code",
      "source": [
        "def extract_username(df):\n",
        "    # Extract username from each email address\n",
        "    df['Username'] = df['Email'].str.split('@').str[0]\n",
        "\n",
        "df = pd.DataFrame({'Email': ['john.doe@example.com', 'jane.smith@example.com']})\n",
        "extract_username(df)\n",
        "print(df)"
      ],
      "metadata": {
        "id": "99Ddr3fI0nct"
      },
      "execution_count": null,
      "outputs": []
    },
    {
      "cell_type": "markdown",
      "source": [
        "Question 8"
      ],
      "metadata": {
        "id": "vPnFuW4q2MZe"
      }
    },
    {
      "cell_type": "code",
      "source": [
        "def select_rows(df):\n",
        "    # Boolean indexing to select rows based on conditions\n",
        "    selected_rows = df[(df['A'] > 5) & (df['B'] < 10)]\n",
        "\n",
        "    return selected_rows\n",
        "\n",
        "\n",
        "df = pd.DataFrame({'A': [3, 8, 6, 2, 9],\n",
        "                   'B': [5, 2, 9, 3, 1],\n",
        "                   'C': [1, 7, 4, 5, 2]})\n",
        "selected_df = select_rows(df)\n",
        "print(selected_df)"
      ],
      "metadata": {
        "id": "-7q0TCqg328r"
      },
      "execution_count": null,
      "outputs": []
    },
    {
      "cell_type": "code",
      "source": [],
      "metadata": {
        "id": "3FTU2Sjc341-"
      },
      "execution_count": null,
      "outputs": []
    },
    {
      "cell_type": "markdown",
      "source": [
        "Question 9"
      ],
      "metadata": {
        "id": "7y5uF7Td35fV"
      }
    },
    {
      "cell_type": "code",
      "source": [
        "mean_value = df['Values'].mean()\n",
        "    median_value = df['Values'].median()\n",
        "    std_deviation = df['Values'].std()"
      ],
      "metadata": {
        "id": "LU8sU5bB3705"
      },
      "execution_count": null,
      "outputs": []
    },
    {
      "cell_type": "markdown",
      "source": [
        "Question 10"
      ],
      "metadata": {
        "id": "5dGgyc2J4Pt4"
      }
    },
    {
      "cell_type": "code",
      "source": [
        "import pandas as pd\n",
        "\n",
        "def calculate_moving_average(df):\n",
        "    # Convert 'Date' column to datetime if not already\n",
        "    df['Date'] = pd.to_datetime(df['Date'])\n",
        "\n",
        "    # Sort DataFrame by date if not already sorted\n",
        "    df = df.sort_values(by='Date')\n",
        "\n",
        "    df['MovingAverage'] = df['Sales'].rolling(window=7, min_periods=1).mean()\n",
        "\n",
        "    return df\n",
        "\n",
        "\n",
        "df = pd.DataFrame({'Date': ['2024-05-01', '2024-05-02', '2024-05-03', '2024-05-04', '2024-05-05', '2024-05-06', '2024-05-07', '2024-05-08'],\n",
        "                   'Sales': [10, 20, 30, 40, 50, 60, 70, 80]})\n",
        "\n",
        "\n",
        "df = calculate_moving_average(df)\n",
        "print(df)\n"
      ],
      "metadata": {
        "id": "Qt14eVAQ4Riu"
      },
      "execution_count": null,
      "outputs": []
    },
    {
      "cell_type": "markdown",
      "source": [
        "Question 11"
      ],
      "metadata": {
        "id": "vWZ_FDCv4lYz"
      }
    },
    {
      "cell_type": "code",
      "source": [
        "import pandas as pd\n",
        "\n",
        "def add_weekday_column(df):\n",
        "    # Convert 'Date' column to datetime if not already\n",
        "    df['Date'] = pd.to_datetime(df['Date'])\n",
        "\n",
        "    # Extract weekday name and assign to 'Weekday' column\n",
        "    df['Weekday'] = df['Date'].dt.strftime('%A')\n",
        "\n",
        "    return df\n",
        "\n",
        "# Example usage:\n",
        "# Assuming df is your DataFrame with the column 'Date'\n",
        "# Replace df with your DataFrame name\n",
        "df = pd.DataFrame({'Date': ['2023-01-01', '2023-01-02', '2023-01-03', '2023-01-04', '2023-01-05']})\n",
        "\n",
        "# Add weekday column\n",
        "df = add_weekday_column(df)\n",
        "print(df)\n"
      ],
      "metadata": {
        "id": "b4KJ6_Cn4nLg"
      },
      "execution_count": null,
      "outputs": []
    },
    {
      "cell_type": "markdown",
      "source": [
        "Question 12"
      ],
      "metadata": {
        "id": "TvnY6lwT5EPz"
      }
    },
    {
      "cell_type": "code",
      "source": [
        "import pandas as pd\n",
        "\n",
        "def select_rows_in_date_range(df):\n",
        "    # Convert 'Date' column to datetime if not already\n",
        "    df['Date'] = pd.to_datetime(df['Date'])\n",
        "\n",
        "    # Select rows where date is between '2023-01-01' and '2023-01-31'\n",
        "    selected_rows = df[(df['Date'] >= '2023-01-01') & (df['Date'] <= '2023-01-31')]\n",
        "\n",
        "    return selected_rows\n",
        "\n",
        "df = pd.DataFrame({'Date': ['2023-01-01', '2023-01-15', '2023-01-31', '2023-02-01']})\n",
        "\n",
        "selected_df = select_rows_in_date_range(df)\n",
        "print(selected_df)\n"
      ],
      "metadata": {
        "id": "GEjEvWVY5Jjn"
      },
      "execution_count": null,
      "outputs": []
    },
    {
      "cell_type": "markdown",
      "source": [
        "Question 13"
      ],
      "metadata": {
        "id": "5QBVps1c5YDv"
      }
    },
    {
      "cell_type": "code",
      "source": [
        "import pandas as pd"
      ],
      "metadata": {
        "id": "W_RsjUZo5aP1"
      },
      "execution_count": null,
      "outputs": []
    }
  ]
}